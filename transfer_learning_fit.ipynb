{
 "cells": [
  {
   "cell_type": "code",
   "execution_count": 1,
   "metadata": {},
   "outputs": [],
   "source": [
    "from tensorflow.keras.utils import to_categorical\n",
    "from sklearn.preprocessing import LabelEncoder\n",
    "from sklearn.model_selection import train_test_split\n",
    "from tensorflow.keras.layers import Input, Conv2D, BatchNormalization, MaxPooling2D, Flatten, Dense, Dropout, GlobalAveragePooling2D, Conv1D, TimeDistributed, GlobalAveragePooling1D\n",
    "from tensorflow.keras.models import Model\n",
    "from tensorflow.keras.optimizers import Adam\n",
    "from tensorflow.keras.models import load_model\n",
    "import matplotlib.pyplot as plt\n",
    "import os\n",
    "import numpy as np\n",
    "import tensorflow as tf\n",
    "from sklearn.metrics import classification_report, confusion_matrix\n",
    "from tensorflow.keras.applications import ResNet50\n",
    "from tensorflow.keras import backend as K\n",
    "import time"
   ]
  },
  {
   "cell_type": "code",
   "execution_count": 2,
   "metadata": {},
   "outputs": [],
   "source": [
    "# 載入資料集\n",
    "def load_gesture_data(directory):\n",
    "    gesture_data = []\n",
    "    labels = []\n",
    "    \n",
    "    categories = []\n",
    "    for category in os.listdir(directory):\n",
    "        category_path = os.path.join(directory, category)\n",
    "        if os.path.isdir(category_path):\n",
    "            categories.append(category)\n",
    "    \n",
    "    category_files = {}\n",
    "    for category in categories:\n",
    "        category_path = os.path.join(directory, category)\n",
    "        files = []\n",
    "        for file in os.listdir(category_path):\n",
    "            if file.endswith('.npy'):\n",
    "                files.append(file)\n",
    "        category_files[category] = files\n",
    "    \n",
    "    max_files = 0\n",
    "    for files in category_files.values():\n",
    "        if len(files) > max_files:\n",
    "            max_files = len(files)\n",
    "    \n",
    "    for i in range(max_files):\n",
    "        for category in categories:\n",
    "            files = category_files[category]\n",
    "            \n",
    "            if i < len(files):\n",
    "                file_name = files[i]\n",
    "                file_path = os.path.join(category, file_name)\n",
    "                file_path_full = os.path.join(directory, file_path)\n",
    "                print(f\"Loading {file_path_full}\")\n",
    "                data = np.load(file_path_full)\n",
    "                gesture_data.append(data)\n",
    "                labels.append(category)  \n",
    "    \n",
    "    return np.array(gesture_data), labels\n"
   ]
  },
  {
   "cell_type": "code",
   "execution_count": null,
   "metadata": {},
   "outputs": [],
   "source": [
    "# 載入資料集\n",
    "gesture_data_train, gesture_labels_train = load_gesture_data('train_data/train')\n",
    "gesture_data_test, gesture_labels_test = load_gesture_data('train_data/test')\n",
    "gesture_data_val, gesture_labels_val = load_gesture_data('train_data/validation')\n",
    "\n",
    "print(\"Original Gesture data train shape:\", np.shape(gesture_data_train))\n",
    "print(\"Original Gesture labels train shape:\", np.shape(gesture_labels_train))\n",
    "\n",
    "x_train_gesture = np.reshape(gesture_data_train, (-1, 2, 32, 32, 35))\n",
    "x_test_gesture = np.reshape(gesture_data_test, (-1, 2, 32, 32, 35))\n",
    "x_val_gesture = np.reshape(gesture_data_val, (-1, 2, 32, 32, 35))\n",
    "\n",
    "x_train_gesture = np.transpose(x_train_gesture, [0, 4, 2, 3, 1]).reshape(-1, 32, 32, 2)\n",
    "x_test_gesture = np.transpose(x_test_gesture, [0, 4, 2, 3, 1]).reshape(-1, 32, 32, 2)\n",
    "x_val_gesture = np.transpose(x_val_gesture, [0, 4, 2, 3, 1]).reshape(-1, 32, 32, 2)\n",
    "\n",
    "\n",
    "# 因為資料合併(14260, 35, 32, 32, 2) -> (499100, 32, 32, 2) 因此label需要重複35遍\n",
    "gesture_labels_train = np.repeat(gesture_labels_train, 35)\n",
    "gesture_labels_test = np.repeat(gesture_labels_test, 35)\n",
    "gesture_labels_val = np.repeat(gesture_labels_val, 35)\n",
    "\n",
    "# 先編碼再獨熱編碼\n",
    "label_encoder = LabelEncoder()\n",
    "gesture_labels_train_encoded = label_encoder.fit_transform(gesture_labels_train)\n",
    "gesture_labels_test_encoded = label_encoder.transform(gesture_labels_test)\n",
    "gesture_labels_val_encoded = label_encoder.transform(gesture_labels_val)\n",
    "\n",
    "gesture_labels_train_one_hot = to_categorical(gesture_labels_train_encoded)\n",
    "gesture_labels_test_one_hot = to_categorical(gesture_labels_test_encoded)\n",
    "gesture_labels_val_one_hot = to_categorical(gesture_labels_val_encoded)\n",
    "\n",
    "gesture_labels_train_one_hot = np.reshape(gesture_labels_train_one_hot, (-1, 1, 8))\n",
    "gesture_labels_test_one_hot = np.reshape(gesture_labels_test_one_hot, (-1, 1, 8))\n",
    "gesture_labels_val_one_hot = np.reshape(gesture_labels_val_one_hot, (-1, 1, 8))\n",
    "\n",
    "print(\"Reshaped Gesture data train shape:\", x_train_gesture.shape)\n",
    "print(\"Reshaped Gesture labels train shape:\", gesture_labels_train_one_hot.shape)"
   ]
  },
  {
   "cell_type": "code",
   "execution_count": 4,
   "metadata": {},
   "outputs": [],
   "source": [
    "# 損失函數\n",
    "def l2_loss(y_true, y_pred):\n",
    "    diff = y_true - y_pred\n",
    "    #print(f\"Difference (diff): {diff.numpy()}\")\n",
    "    #print(f\"y_true (label): {y_true}\")\n",
    "    #print(f\"y_pred (label_pred): {y_pred}\")\n",
    "    loss = tf.reduce_mean(tf.square(diff))\n",
    "    #print(f\"loss: {loss}\")\n",
    "    return loss"
   ]
  },
  {
   "cell_type": "code",
   "execution_count": 4,
   "metadata": {},
   "outputs": [
    {
     "name": "stdout",
     "output_type": "stream",
     "text": [
      "WARNING:tensorflow:No training configuration found in the save file, so the model was *not* compiled. Compile it manually.\n"
     ]
    }
   ],
   "source": [
    "model = load_model('CNN_TL_addDropout.h5')"
   ]
  },
  {
   "cell_type": "code",
   "execution_count": 5,
   "metadata": {},
   "outputs": [
    {
     "name": "stdout",
     "output_type": "stream",
     "text": [
      "Model: \"model\"\n",
      "_________________________________________________________________\n",
      " Layer (type)                Output Shape              Param #   \n",
      "=================================================================\n",
      " input_1 (InputLayer)        [(None, 32, 32, 2)]       0         \n",
      "                                                                 \n",
      " online_cnn_fw/depthwise_con  (None, 15, 15, 2)        18        \n",
      " v2d_9/depthwise1 (Depthwise                                     \n",
      " Conv2D)                                                         \n",
      "                                                                 \n",
      " online_cnn_fw/conv2d_9/Conv  (None, 15, 15, 32)       64        \n",
      " 2D (Conv2D)                                                     \n",
      "                                                                 \n",
      " online_cnn_fw/depthwise_con  (None, 7, 7, 32)         288       \n",
      " v2d_10/depthwise1 (Depthwis                                     \n",
      " eConv2D)                                                        \n",
      "                                                                 \n",
      " online_cnn_fw/conv2d_10/Con  (None, 7, 7, 64)         2048      \n",
      " v2D (Conv2D)                                                    \n",
      "                                                                 \n",
      " dropout (Dropout)           (None, 7, 7, 64)          0         \n",
      "                                                                 \n",
      " online_cnn_fw/depthwise_con  (None, 3, 3, 64)         576       \n",
      " v2d_11/depthwise1 (Depthwis                                     \n",
      " eConv2D)                                                        \n",
      "                                                                 \n",
      " online_cnn_fw/conv2d_11/Con  (None, 3, 3, 128)        8192      \n",
      " v2D1 (Conv2D)                                                   \n",
      "                                                                 \n",
      " dropout_1 (Dropout)         (None, 3, 3, 128)         0         \n",
      "                                                                 \n",
      " global_average_pooling2d (G  (None, 128)              0         \n",
      " lobalAveragePooling2D)                                          \n",
      "                                                                 \n",
      " batch_normalization (BatchN  (None, 128)              512       \n",
      " ormalization)                                                   \n",
      "                                                                 \n",
      " reshape (Reshape)           (None, 1, 128)            0         \n",
      "                                                                 \n",
      "=================================================================\n",
      "Total params: 11,698\n",
      "Trainable params: 11,442\n",
      "Non-trainable params: 256\n",
      "_________________________________________________________________\n"
     ]
    }
   ],
   "source": [
    "model.summary()"
   ]
  },
  {
   "cell_type": "code",
   "execution_count": 6,
   "metadata": {},
   "outputs": [],
   "source": [
    "# 加上全連接層\n",
    "x = model.output\n",
    "\n",
    "predictions = Dense(8, activation='softmax')(x)\n",
    "\n",
    "model = Model(inputs=model.input, outputs=predictions)"
   ]
  },
  {
   "cell_type": "code",
   "execution_count": null,
   "metadata": {},
   "outputs": [],
   "source": [
    "model.summary()"
   ]
  },
  {
   "cell_type": "code",
   "execution_count": 9,
   "metadata": {},
   "outputs": [],
   "source": [
    "from keras.callbacks import ReduceLROnPlateau\n",
    "learning_rate_function = ReduceLROnPlateau(monitor='val_accuracy', \n",
    "                                            patience=3, \n",
    "                                            verbose=1, \n",
    "                                            factor=0.5, \n",
    "                                            min_lr=0.00001)"
   ]
  },
  {
   "cell_type": "code",
   "execution_count": null,
   "metadata": {},
   "outputs": [],
   "source": [
    "# 訓練模型\n",
    "optimizer = tf.keras.optimizers.Adam(learning_rate=0.0001)\n",
    "\n",
    "model.compile(optimizer=optimizer, loss=l2_loss, metrics=['accuracy'])\n",
    "\n",
    "history = model.fit(\n",
    "    x_train_gesture, gesture_labels_train_one_hot,\n",
    "    epochs=150,\n",
    "    batch_size=4480,\n",
    "    validation_data=(x_val_gesture, gesture_labels_val_one_hot),\n",
    "    callbacks=[learning_rate_function]\n",
    ")\n"
   ]
  },
  {
   "cell_type": "code",
   "execution_count": 12,
   "metadata": {},
   "outputs": [],
   "source": [
    "model.save('ourCNNmodel_forTL_150_epoch_Dropout_0.7_withoutfalldown.h5')"
   ]
  },
  {
   "cell_type": "code",
   "execution_count": null,
   "metadata": {},
   "outputs": [],
   "source": [
    "# 評估模型\n",
    "test_loss, test_accuracy = model.evaluate(x_test_gesture, gesture_labels_test_one_hot)\n",
    "print(f\"Test Loss: {test_loss:.4f}\")\n",
    "print(f\"Test Accuracy: {test_accuracy:.4f}\")"
   ]
  },
  {
   "cell_type": "code",
   "execution_count": null,
   "metadata": {},
   "outputs": [],
   "source": [
    "# 畫圖\n",
    "plt.figure(figsize=(12, 5))\n",
    "\n",
    "plt.subplot(1, 2, 1)\n",
    "plt.plot(history.history['accuracy'])\n",
    "plt.plot(history.history['val_accuracy'])\n",
    "plt.title('Model Accuracy')\n",
    "plt.xlabel('Epoch')\n",
    "plt.ylabel('Accuracy')\n",
    "plt.legend(['Train', 'Validation'])\n",
    "\n",
    "plt.subplot(1, 2, 2)\n",
    "plt.plot(history.history['loss'])\n",
    "plt.plot(history.history['val_loss'])\n",
    "plt.title('Model Loss')\n",
    "plt.xlabel('Epoch')\n",
    "plt.ylabel('Loss')\n",
    "plt.legend(['Train', 'Validation'])\n",
    "\n",
    "plt.show()"
   ]
  }
 ],
 "metadata": {
  "kernelspec": {
   "display_name": "KKT",
   "language": "python",
   "name": "python3"
  },
  "language_info": {
   "codemirror_mode": {
    "name": "ipython",
    "version": 3
   },
   "file_extension": ".py",
   "mimetype": "text/x-python",
   "name": "python",
   "nbconvert_exporter": "python",
   "pygments_lexer": "ipython3",
   "version": "3.8.19"
  }
 },
 "nbformat": 4,
 "nbformat_minor": 2
}
